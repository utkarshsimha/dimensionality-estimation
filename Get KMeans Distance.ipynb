{
 "cells": [
  {
   "cell_type": "code",
   "execution_count": 1,
   "metadata": {
    "collapsed": true,
    "deletable": true,
    "editable": true
   },
   "outputs": [],
   "source": [
    "import numpy as np\n",
    "from tqdm import tqdm\n",
    "import matplotlib.pyplot as plt"
   ]
  },
  {
   "cell_type": "markdown",
   "metadata": {
    "deletable": true,
    "editable": true
   },
   "source": [
    "#### Parameters"
   ]
  },
  {
   "cell_type": "code",
   "execution_count": 2,
   "metadata": {
    "collapsed": true,
    "deletable": true,
    "editable": true
   },
   "outputs": [],
   "source": [
    "N_CLUSTERS = 10\n",
    "AVG_N = 20\n",
    "NOISE_FACTOR = 0.0001\n",
    "M_CLUSTERS = 100"
   ]
  },
  {
   "cell_type": "markdown",
   "metadata": {
    "deletable": true,
    "editable": true
   },
   "source": [
    "#### Load the data \n",
    "Convert the data into a dictionary where the index is the key. This helps us to retain some sort of indexing while processing it as an RDD. <br/>\n",
    "For the RDD, we pass the data as a list of tuples, where the first element is the index and the second element is the data"
   ]
  },
  {
   "cell_type": "code",
   "execution_count": 3,
   "metadata": {
    "collapsed": false,
    "deletable": true,
    "editable": true
   },
   "outputs": [],
   "source": [
    "data = np.load( \"100d_circle.npy\" )[:40000]\n",
    "np.random.shuffle( data )\n",
    "data += NOISE_FACTOR * np.random.normal( loc=0, scale=1, size=data.shape )\n",
    "data =  dict( list( enumerate( data ) ) ) \n",
    "rdd_data = sc.parallelize( data.items(), 4 )"
   ]
  },
  {
   "cell_type": "code",
   "execution_count": 4,
   "metadata": {
    "collapsed": false,
    "deletable": true,
    "editable": true
   },
   "outputs": [],
   "source": [
    "centroid_index = np.random.randint( 0, len(data) )\n",
    "centroids = [ data[centroid_index] ] #Initialize a random centroid\n",
    "avg_distances = []"
   ]
  },
  {
   "cell_type": "markdown",
   "metadata": {
    "deletable": true,
    "editable": true
   },
   "source": [
    "#### Distance between a data point and centroids \n",
    "Compute the squared distance between a data point and all the centroids we have initialized till now"
   ]
  },
  {
   "cell_type": "code",
   "execution_count": 5,
   "metadata": {
    "collapsed": false,
    "deletable": true,
    "editable": true
   },
   "outputs": [],
   "source": [
    "def distFromCentroids( datum ):\n",
    "    return  np.min( np.sum( np.square( datum - np.asarray(centroids) ), axis=1 ) )"
   ]
  },
  {
   "cell_type": "markdown",
   "metadata": {
    "deletable": true,
    "editable": true
   },
   "source": [
    "#### Compute centroids \n",
    "* For each partition, <code>glom</code> the data and:\n",
    "    * Initialize one centroid for each partition using KMeans++\n",
    "    * Return the partition index along with the centroid index"
   ]
  },
  {
   "cell_type": "code",
   "execution_count": 6,
   "metadata": {
    "collapsed": false,
    "deletable": true,
    "editable": true
   },
   "outputs": [],
   "source": [
    "def getCentroids( partition_idx, itr ):\n",
    "    '''idx: partition index; itr: iterator over partition'''\n",
    "    glom_data = list(itr)[0]\n",
    "    idx, data = zip(*glom_data) #Chunk\n",
    "    centroidDist = map( distFromCentroids, data )\n",
    "    normDist = np.asarray( centroidDist / sum(centroidDist) ).cumsum().tolist()\n",
    "    normDistData = zip(idx,normDist)\n",
    "    randProb = np.random.random()\n",
    "    select_idx, _ = filter( lambda x: randProb <= x[1], normDistData )[0]\n",
    "    yield ( partition_idx, select_idx )"
   ]
  },
  {
   "cell_type": "code",
   "execution_count": 7,
   "metadata": {
    "collapsed": false,
    "deletable": true,
    "editable": true
   },
   "outputs": [],
   "source": [
    "centroids = rdd_data.glom().mapPartitionsWithIndex( getCentroids ).collect()\n",
    "centroid_dict = dict( (k,data[v]) for k,v in centroids )\n",
    "centroids = centroid_dict.values()"
   ]
  },
  {
   "cell_type": "markdown",
   "metadata": {
    "deletable": true,
    "editable": true
   },
   "source": [
    "#### Compute avg distance for each partition\n",
    "* For each partition, identified by the partition index:\n",
    "    * Get all the points that are closest to the centroid corresponding to the partition\n",
    "    * Run KMeans++ on these points to get M centroids\n",
    "    * Compute the average distance over these M centroids"
   ]
  },
  {
   "cell_type": "code",
   "execution_count": 8,
   "metadata": {
    "collapsed": false,
    "deletable": true,
    "editable": true
   },
   "outputs": [],
   "source": [
    "def getAvgDist( partition_idx, itr ):\n",
    "    '''idx: partition index; itr: iterator over partition'''\n",
    "    ''' We have access to centroid_dict'''\n",
    "    \n",
    "    '''Get closest data points'''\n",
    "    glom_data = list(itr)[0]\n",
    "    idx, data = zip(*glom_data) #Chunk\n",
    "    c_idx = centroid_dict.keys().index( partition_idx )\n",
    "    getArgmin = lambda datum: np.argmin( np.sum( np.square( datum - np.asarray(centroids) ), axis=1 ) )\n",
    "    argmin_arr = np.asarray( map( getArgmin, data ) )\n",
    "    cluster_data = np.asarray( data )[ argmin_arr == c_idx ]\n",
    "    cluster_idx = np.asarray( idx )[ argmin_arr == c_idx ]\n",
    "    '''Run KMeans++ on the closest data points'''\n",
    "    random_idx = np.random.randint( 0, len(cluster_data) )\n",
    "    cluster_centroids = [ cluster_data[ random_idx ] ]\n",
    "    avg_distances = []\n",
    "    while( len(cluster_centroids) < M_CLUSTERS ):\n",
    "        distFromCentroids = lambda datum: np.min( np.sum( np.square( datum - np.asarray(cluster_centroids) ), axis=1 ) )\n",
    "        centroidDist = map( distFromCentroids, cluster_data )\n",
    "        avg_distances.append( np.mean( centroidDist[::-2][:AVG_N] ) )\n",
    "        normDist = np.asarray( centroidDist / sum(centroidDist) ).cumsum()\n",
    "        randProb = np.random.random()\n",
    "        select_idx = np.where( normDist >= randProb )[0][0]\n",
    "        cluster_centroids.append( cluster_data[ select_idx ] )\n",
    "    yield avg_distances\n"
   ]
  },
  {
   "cell_type": "code",
   "execution_count": 9,
   "metadata": {
    "collapsed": false,
    "deletable": true,
    "editable": true
   },
   "outputs": [],
   "source": [
    "avg_distances = rdd_data.glom().mapPartitionsWithIndex( getAvgDist ).collect()"
   ]
  },
  {
   "cell_type": "markdown",
   "metadata": {
    "deletable": true,
    "editable": true
   },
   "source": [
    "#### Visualize log-log plot of the average distance vs. M for each partition"
   ]
  },
  {
   "cell_type": "code",
   "execution_count": 10,
   "metadata": {
    "collapsed": false,
    "deletable": true,
    "editable": true
   },
   "outputs": [],
   "source": [
    "from matplotlib import gridspec\n",
    "import matplotlib.pyplot as plt\n",
    "fig = plt.figure()\n",
    "gs = gridspec.GridSpec(2,2)\n",
    "ax = [ fig.add_subplot(gs[i]) for i in range( len(avg_distances) ) ]\n",
    "for i,val in enumerate(avg_distances):\n",
    "    avg_dist = val \n",
    "    ax[i].plot( np.log2( range( 1, len(avg_dist)+1 ) ), np.log2( avg_dist ) )\n",
    "    ax[i].set_xlabel( \"log2(k)\" )\n",
    "    ax[i].set_ylabel( \"log2(epsilon)\" )\n",
    "plt.savefig(\"log-log_plots.png\")"
   ]
  },
  {
   "cell_type": "code",
   "execution_count": 11,
   "metadata": {
    "collapsed": false,
    "deletable": true,
    "editable": true
   },
   "outputs": [
    {
     "data": {
      "image/png": "[encoded data removed]",
      "text/plain": [
       "<matplotlib.figure.Figure at 0x110589bd0>"
      ]
     },
     "metadata": {},
     "output_type": "display_data"
    }
   ],
   "source": [
    "plt.show()"
   ]
  },
  {
   "cell_type": "code",
   "execution_count": null,
   "metadata": {
    "collapsed": true,
    "deletable": true,
    "editable": true
   },
   "outputs": [],
   "source": []
  }
 ],
 "metadata": {
  "kernelspec": {
   "display_name": "Python 2",
   "language": "python",
   "name": "python2"
  },
  "language_info": {
   "codemirror_mode": {
    "name": "ipython",
    "version": 2
   },
   "file_extension": ".py",
   "mimetype": "text/x-python",
   "name": "python",
   "nbconvert_exporter": "python",
   "pygments_lexer": "ipython2",
   "version": "2.7.12"
  }
 },
 "nbformat": 4,
 "nbformat_minor": 2
}
